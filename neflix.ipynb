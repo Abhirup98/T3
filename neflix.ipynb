{
 "cells": [
  {
   "cell_type": "code",
   "execution_count": 146,
   "metadata": {
    "collapsed": true
   },
   "outputs": [],
   "source": [
    "import pandas as pd\n",
    "import numpy as np\n",
    "from  math import sqrt\n",
    "df = pd.read_csv('TestingRatings.txt',header=None)\n",
    "df.columns = ['MovieID','UserID','Rating']"
   ]
  },
  {
   "cell_type": "markdown",
   "metadata": {},
   "source": [
    "Get a table of means"
   ]
  },
  {
   "cell_type": "code",
   "execution_count": 147,
   "metadata": {},
   "outputs": [],
   "source": [
    "mean_vote = df[['UserID','Rating']].groupby('UserID').mean()\n",
    "#mean_vote"
   ]
  },
  {
   "cell_type": "markdown",
   "metadata": {},
   "source": [
    "Get the unique UserID\n",
    "For that we need to know the keys of mean_vote"
   ]
  },
  {
   "cell_type": "code",
   "execution_count": 148,
   "metadata": {},
   "outputs": [],
   "source": [
    "list_of_UserID = mean_vote.index.values\n",
    "# list_of_UserID is an array([.....],dtype=int64)"
   ]
  },
  {
   "cell_type": "code",
   "execution_count": 150,
   "metadata": {
    "collapsed": true
   },
   "outputs": [],
   "source": [
    "w = pd.DataFrame(index = list_of_UserID, columns = list_of_UserID)"
   ]
  },
  {
   "cell_type": "markdown",
   "metadata": {},
   "source": [
    "In this way we insert data in the dataframe"
   ]
  },
  {
   "cell_type": "code",
   "execution_count": 151,
   "metadata": {},
   "outputs": [],
   "source": [
    "w.loc[6766, 11462] = 111111111\n",
    "\n"
   ]
  },
  {
   "cell_type": "markdown",
   "metadata": {},
   "source": [
    "In this way we check if w has a missing value"
   ]
  },
  {
   "cell_type": "code",
   "execution_count": 152,
   "metadata": {},
   "outputs": [
    {
     "data": {
      "text/plain": [
       "False"
      ]
     },
     "execution_count": 152,
     "metadata": {},
     "output_type": "execute_result"
    }
   ],
   "source": [
    "np.isnan(w.loc[6766, 11462])"
   ]
  },
  {
   "cell_type": "code",
   "execution_count": 153,
   "metadata": {},
   "outputs": [
    {
     "data": {
      "text/plain": [
       "True"
      ]
     },
     "execution_count": 153,
     "metadata": {},
     "output_type": "execute_result"
    }
   ],
   "source": [
    "np.isnan(w.loc[6766, 6766])"
   ]
  },
  {
   "cell_type": "markdown",
   "metadata": {},
   "source": [
    "## Get data to compute p(a,j)"
   ]
  },
  {
   "cell_type": "markdown",
   "metadata": {},
   "source": [
    "Now I start developing the fuction predicted_vote(a,j)\n",
    "For this I have to  use w and mean_vote as a global variables\n",
    "In addition, we have to extract all the votes for the movie J. \n",
    "Count how many votes the movie has\n",
    "Update the w(a,i) and w (i,a) values\n",
    "We have to calculate the corresponding k"
   ]
  },
  {
   "cell_type": "code",
   "execution_count": 154,
   "metadata": {},
   "outputs": [
    {
     "data": {
      "text/html": [
       "<div>\n",
       "<style>\n",
       "    .dataframe thead tr:only-child th {\n",
       "        text-align: right;\n",
       "    }\n",
       "\n",
       "    .dataframe thead th {\n",
       "        text-align: left;\n",
       "    }\n",
       "\n",
       "    .dataframe tbody tr th {\n",
       "        vertical-align: top;\n",
       "    }\n",
       "</style>\n",
       "<table border=\"1\" class=\"dataframe\">\n",
       "  <thead>\n",
       "    <tr style=\"text-align: right;\">\n",
       "      <th></th>\n",
       "      <th>Rating</th>\n",
       "    </tr>\n",
       "    <tr>\n",
       "      <th>UserID</th>\n",
       "      <th></th>\n",
       "    </tr>\n",
       "  </thead>\n",
       "  <tbody>\n",
       "    <tr>\n",
       "      <th>1945693</th>\n",
       "      <td>4.0</td>\n",
       "    </tr>\n",
       "    <tr>\n",
       "      <th>1640271</th>\n",
       "      <td>4.0</td>\n",
       "    </tr>\n",
       "    <tr>\n",
       "      <th>38946</th>\n",
       "      <td>4.0</td>\n",
       "    </tr>\n",
       "  </tbody>\n",
       "</table>\n",
       "</div>"
      ],
      "text/plain": [
       "         Rating\n",
       "UserID         \n",
       "1945693     4.0\n",
       "1640271     4.0\n",
       "38946       4.0"
      ]
     },
     "execution_count": 154,
     "metadata": {},
     "output_type": "execute_result"
    }
   ],
   "source": [
    "votes_for_movie = df.groupby('MovieID').get_group(61).drop('MovieID', axis = 1).set_index('UserID')\n",
    "votes_for_movie"
   ]
  },
  {
   "cell_type": "code",
   "execution_count": 155,
   "metadata": {},
   "outputs": [
    {
     "data": {
      "text/plain": [
       "3"
      ]
     },
     "execution_count": 155,
     "metadata": {},
     "output_type": "execute_result"
    }
   ],
   "source": [
    "len(votes_for_movie)"
   ]
  },
  {
   "cell_type": "markdown",
   "metadata": {},
   "source": [
    "Now we have to learn how to itereate in a DataFrame\n"
   ]
  },
  {
   "cell_type": "code",
   "execution_count": 156,
   "metadata": {},
   "outputs": [
    {
     "name": "stdout",
     "output_type": "stream",
     "text": [
      "1945693 4.0\n",
      "4.0\n",
      "1640271 4.0\n",
      "4.0\n",
      "38946 4.0\n",
      "4.0\n"
     ]
    }
   ],
   "source": [
    "for key,vote in votes_for_movie.iterrows():\n",
    "    print(key, votes_for_movie.loc[key,'Rating'] )\n",
    "    #print(vote)# I think vote is a series\n",
    "    print(vote['Rating'])"
   ]
  },
  {
   "cell_type": "markdown",
   "metadata": {},
   "source": [
    "The first iteration will be to update the w matrix with a fix a"
   ]
  },
  {
   "cell_type": "code",
   "execution_count": 157,
   "metadata": {},
   "outputs": [
    {
     "name": "stdout",
     "output_type": "stream",
     "text": [
      "jojolete\n",
      "jojolete\n",
      "111111111\n"
     ]
    }
   ],
   "source": [
    "a = 2043109\n",
    "w.loc[2043109, 38946] = 111111111\n",
    "for key,vote in votes_for_movie.iterrows():\n",
    "    if(np.isnan(w.loc[a, key] )):\n",
    "        #Compute W and update\n",
    "        print('jojolete')\n",
    "    else:\n",
    "        #Retrieve infomation\n",
    "        print(w.loc[a, key])\n",
    "        \n"
   ]
  },
  {
   "cell_type": "markdown",
   "metadata": {},
   "source": [
    "## Get data to compute and update w(a,i)"
   ]
  },
  {
   "cell_type": "markdown",
   "metadata": {},
   "source": [
    "Here we have to be careful and only get once the subset of votes of a.\n",
    "We have to get the votes that i gave.\n",
    "We have to find the interception between both sets ( which movies have votes from a and i) then we will have to itereate over this subset of movies computein the summation"
   ]
  },
  {
   "cell_type": "code",
   "execution_count": 242,
   "metadata": {},
   "outputs": [
    {
     "name": "stdout",
     "output_type": "stream",
     "text": [
      "573364 2149668 1089184 2465894 534508 992921 595054 1298304 1661600 553787 1309839 727242 1437668 2170930 1780876 9660 2379200 563186 1539617 1656839 2591126 2455107 1079943 2308589 254671 2633545 1589111 320540 1769901 155279 2448620 1922607 1388257 613651 900685 1962892 1588471 152955 1071775 2490049 1029578 1116113 400756 1181035 2596310 1716520 450465 927007 1703380 448155 1598457 807237 1089865 1917585 760129 500322 1403170 1631898 1088920 1216843 394189 1473381 803330 1695799 556100 1557449 2090369 2152930 1335436 1466743 264988 1471593 1288346 867716 2160334 2554933 1483852 1581954 1785017 1265606 1213065 898979 1490775 2076079 637631 1970495 1962300 157806 1939221 964306 903378 517335 2406002 112790 2051123 1297899 "
     ]
    }
   ],
   "source": [
    "selected_movie = 8\n",
    "votes_for_movie = df.groupby('MovieID').get_group(selected_movie).drop('MovieID', axis = 1).set_index('UserID')\n",
    "usersID_for_movie = votes_for_movie.index.values\n",
    "for user in usersID_for_movie:\n",
    "    print(user,end = ' ')"
   ]
  },
  {
   "cell_type": "code",
   "execution_count": 225,
   "metadata": {},
   "outputs": [],
   "source": [
    "a = 1664010\n",
    "i = 2439493\n",
    "votes_of_a = df.groupby('UserID').get_group(a).drop('UserID', axis = 1).set_index('MovieID')\n",
    "#votes_of_a"
   ]
  },
  {
   "cell_type": "code",
   "execution_count": 226,
   "metadata": {},
   "outputs": [],
   "source": [
    "votes_of_i = df.groupby('UserID').get_group(i).drop('UserID', axis = 1).set_index('MovieID')\n",
    "#votes_of_i"
   ]
  },
  {
   "cell_type": "markdown",
   "metadata": {},
   "source": [
    "Now we will get the intersection of the movies for which a and i voted"
   ]
  },
  {
   "cell_type": "code",
   "execution_count": 227,
   "metadata": {},
   "outputs": [],
   "source": [
    "movies_of_a = votes_of_a.index.values\n",
    "movies_of_i = votes_of_i.index.values\n",
    "common_movies = votes_of_a.index.intersection(votes_of_i.index)"
   ]
  },
  {
   "cell_type": "code",
   "execution_count": 228,
   "metadata": {},
   "outputs": [
    {
     "data": {
      "text/plain": [
       "Int64Index([2510, 3149], dtype='int64', name='MovieID')"
      ]
     },
     "execution_count": 228,
     "metadata": {},
     "output_type": "execute_result"
    }
   ],
   "source": [
    "common_movies\n"
   ]
  },
  {
   "cell_type": "code",
   "execution_count": 229,
   "metadata": {},
   "outputs": [
    {
     "name": "stdout",
     "output_type": "stream",
     "text": [
      "2510\n",
      "3149\n"
     ]
    }
   ],
   "source": [
    "for value in common_movies:\n",
    "    print(value)"
   ]
  },
  {
   "cell_type": "code",
   "execution_count": 238,
   "metadata": {},
   "outputs": [
    {
     "ename": "AttributeError",
     "evalue": "'numpy.float64' object has no attribute 'loc'",
     "output_type": "error",
     "traceback": [
      "\u001b[1;31m---------------------------------------------------------------------------\u001b[0m",
      "\u001b[1;31mAttributeError\u001b[0m                            Traceback (most recent call last)",
      "\u001b[1;32m<ipython-input-238-e9ae0037742e>\u001b[0m in \u001b[0;36m<module>\u001b[1;34m()\u001b[0m\n\u001b[0;32m     10\u001b[0m \u001b[1;32mfrom\u001b[0m  \u001b[0mmath\u001b[0m \u001b[1;32mimport\u001b[0m \u001b[0msqrt\u001b[0m\u001b[1;33m\u001b[0m\u001b[0m\n\u001b[0;32m     11\u001b[0m \u001b[0mw_a_i\u001b[0m \u001b[1;33m=\u001b[0m \u001b[0msum_lin\u001b[0m \u001b[1;33m/\u001b[0m \u001b[0msqrt\u001b[0m\u001b[1;33m(\u001b[0m\u001b[0msum_sqr_a\u001b[0m \u001b[1;33m*\u001b[0m \u001b[0msum_sqr_i\u001b[0m\u001b[1;33m)\u001b[0m\u001b[1;33m\u001b[0m\u001b[0m\n\u001b[1;32m---> 12\u001b[1;33m \u001b[0mw\u001b[0m\u001b[1;33m.\u001b[0m\u001b[0mloc\u001b[0m\u001b[1;33m[\u001b[0m\u001b[0ma\u001b[0m\u001b[1;33m,\u001b[0m\u001b[0mi\u001b[0m\u001b[1;33m]\u001b[0m \u001b[1;33m=\u001b[0m \u001b[0mw_a_i\u001b[0m\u001b[1;33m\u001b[0m\u001b[0m\n\u001b[0m\u001b[0;32m     13\u001b[0m \u001b[0mw\u001b[0m\u001b[1;33m.\u001b[0m\u001b[0mloc\u001b[0m\u001b[1;33m[\u001b[0m\u001b[0mi\u001b[0m\u001b[1;33m,\u001b[0m\u001b[0ma\u001b[0m\u001b[1;33m]\u001b[0m \u001b[1;33m=\u001b[0m \u001b[0mw_a_i\u001b[0m\u001b[1;33m\u001b[0m\u001b[0m\n",
      "\u001b[1;31mAttributeError\u001b[0m: 'numpy.float64' object has no attribute 'loc'"
     ]
    }
   ],
   "source": [
    "sum_lin = 0\n",
    "sum_sqr_a = 0\n",
    "sum_sqr_i = 0\n",
    "for movie in common_movies:\n",
    "    d_a =(votes_of_a.loc[movie,'Rating'] - mean_vote.loc[a,'Rating'])\n",
    "    d_i =(votes_of_i.loc[movie,'Rating'] - mean_vote.loc[i,'Rating'])\n",
    "    sum_lin += d_a * d_i\n",
    "    sum_sqr_a += d_a**2\n",
    "    sum_sqr_i += d_i**2\n",
    "from  math import sqrt\n",
    "w_a_i = sum_lin / sqrt(sum_sqr_a * sum_sqr_i)\n",
    "w.loc[a,i] = w_a_i \n",
    "w.loc[i,a] = w_a_i"
   ]
  },
  {
   "cell_type": "code",
   "execution_count": 235,
   "metadata": {},
   "outputs": [
    {
     "data": {
      "text/plain": [
       "-0.72307692307692273"
      ]
     },
     "execution_count": 235,
     "metadata": {},
     "output_type": "execute_result"
    }
   ],
   "source": [
    "\n"
   ]
  },
  {
   "cell_type": "code",
   "execution_count": null,
   "metadata": {
    "collapsed": true
   },
   "outputs": [],
   "source": []
  }
 ],
 "metadata": {
  "kernelspec": {
   "display_name": "Python 3",
   "language": "python",
   "name": "python3"
  },
  "language_info": {
   "codemirror_mode": {
    "name": "ipython",
    "version": 3
   },
   "file_extension": ".py",
   "mimetype": "text/x-python",
   "name": "python",
   "nbconvert_exporter": "python",
   "pygments_lexer": "ipython3",
   "version": "3.6.3"
  }
 },
 "nbformat": 4,
 "nbformat_minor": 2
}
